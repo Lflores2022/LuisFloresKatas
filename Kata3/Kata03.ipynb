{
 "cells": [
  {
   "cell_type": "markdown",
   "metadata": {},
   "source": [
    "# Primer ejercicio\n"
   ]
  },
  {
   "cell_type": "code",
   "execution_count": 3,
   "metadata": {},
   "outputs": [
    {
     "name": "stdout",
     "output_type": "stream",
     "text": [
      "el asteroide es peligoroso\n"
     ]
    }
   ],
   "source": [
    "velocidad = 49\n",
    "limite = 25\n",
    "if velocidad >= limite:\n",
    "    print('el asteroide es peligoroso')"
   ]
  },
  {
   "cell_type": "markdown",
   "metadata": {},
   "source": [
    "## Segundo Ejercicio"
   ]
  },
  {
   "cell_type": "code",
   "execution_count": 6,
   "metadata": {},
   "outputs": [
    {
     "name": "stdout",
     "output_type": "stream",
     "text": [
      "no busques un asteoride\n"
     ]
    }
   ],
   "source": [
    "asteroide = 19\n",
    "visual = 20\n",
    "if asteroide >= visual:\n",
    "    print('busca un asteroide en el cielo')\n",
    "else:\n",
    "    print('no busques un asteoride')"
   ]
  },
  {
   "cell_type": "markdown",
   "metadata": {},
   "source": [
    "## Tercer ejercicio"
   ]
  },
  {
   "cell_type": "code",
   "execution_count": 11,
   "metadata": {},
   "outputs": [
    {
     "name": "stdout",
     "output_type": "stream",
     "text": [
      "Se acerca un asteroide peligroso\n"
     ]
    }
   ],
   "source": [
    "tamano = 28\n",
    "velocidad = 27\n",
    "visible =20\n",
    "tamanoMax = 25\n",
    "velocidadMax = 25\n",
    "\n",
    "if tamano >= tamanoMax and velocidad >= velocidadMax:\n",
    "    print('Se acerca un asteroide peligroso')\n",
    "elif velocidad >= visible:\n",
    "    print('busca un asteroide en el cielo')\n",
    "elif tamano < tamanoMax:\n",
    "    print('no te preocupes')\n",
    "else:\n",
    "    print('no te preocupes')"
   ]
  }
 ],
 "metadata": {
  "interpreter": {
   "hash": "ae3eae7a534d3e351a68b5c3be530e25281fdf2de7ccc1d81a206359492f35a6"
  },
  "kernelspec": {
   "display_name": "Python 3.10.2 64-bit",
   "language": "python",
   "name": "python3"
  },
  "language_info": {
   "codemirror_mode": {
    "name": "ipython",
    "version": 3
   },
   "file_extension": ".py",
   "mimetype": "text/x-python",
   "name": "python",
   "nbconvert_exporter": "python",
   "pygments_lexer": "ipython3",
   "version": "3.10.2"
  },
  "orig_nbformat": 4
 },
 "nbformat": 4,
 "nbformat_minor": 2
}
