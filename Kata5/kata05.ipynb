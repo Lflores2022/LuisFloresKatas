{
 "cells": [
  {
   "cell_type": "markdown",
   "metadata": {},
   "source": [
    "## Primer Ejercicio"
   ]
  },
  {
   "cell_type": "code",
   "execution_count": 8,
   "metadata": {},
   "outputs": [
    {
     "name": "stdout",
     "output_type": "stream",
     "text": [
      "628949330\n",
      "390577533.93\n"
     ]
    }
   ],
   "source": [
    "tierra = 149597870\n",
    "jupiter = 778547200\n",
    "#calculando distancia\n",
    "distancia = jupiter - tierra\n",
    "print(distancia)\n",
    "distancia_millas = distancia * 0.621\n",
    "print(distancia_millas)"
   ]
  },
  {
   "cell_type": "markdown",
   "metadata": {},
   "source": [
    "## Segundo ejercicio"
   ]
  },
  {
   "cell_type": "code",
   "execution_count": 13,
   "metadata": {},
   "outputs": [
    {
     "name": "stdout",
     "output_type": "stream",
     "text": [
      "1422\n",
      "883.062\n"
     ]
    }
   ],
   "source": [
    "primer_planeta = input('introduzca la distancia en Km entre el planeta y el sol')\n",
    "segundo_planeta = input('introduzca la distancia en Km entre el planeta y el sol')\n",
    "\n",
    "primer_planeta = int(primer_planeta)\n",
    "segundo_planeta= int(segundo_planeta)\n",
    "\n",
    "distancia = segundo_planeta-primer_planeta\n",
    "print(distancia)\n",
    "\n",
    "distancia_millas = distancia * 0.621\n",
    "print(distancia_millas)"
   ]
  }
 ],
 "metadata": {
  "interpreter": {
   "hash": "ae3eae7a534d3e351a68b5c3be530e25281fdf2de7ccc1d81a206359492f35a6"
  },
  "kernelspec": {
   "display_name": "Python 3.10.2 64-bit",
   "language": "python",
   "name": "python3"
  },
  "language_info": {
   "codemirror_mode": {
    "name": "ipython",
    "version": 3
   },
   "file_extension": ".py",
   "mimetype": "text/x-python",
   "name": "python",
   "nbconvert_exporter": "python",
   "pygments_lexer": "ipython3",
   "version": "3.10.2"
  },
  "orig_nbformat": 4
 },
 "nbformat": 4,
 "nbformat_minor": 2
}
